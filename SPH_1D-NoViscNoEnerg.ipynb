{
 "cells": [
  {
   "cell_type": "code",
   "execution_count": null,
   "id": "c23bf436-76f7-4235-b120-2c18859fff90",
   "metadata": {},
   "outputs": [],
   "source": [
    "import math\n",
    "import numpy as np\n",
    "import matplotlib.pyplot as plt\n",
    "from IPython.display import display, clear_output"
   ]
  },
  {
   "cell_type": "code",
   "execution_count": null,
   "id": "35b67cdf-99d2-490f-81b5-7acabf1014af",
   "metadata": {},
   "outputs": [],
   "source": [
    "def numneigh(i,x,h,npart):\n",
    "  neigh = 0\n",
    "  list = np.zeros(npart)\n",
    "  for j in range(0,npart):\n",
    "      if (abs(x[i]-x[j]) <= 2.0*h):\n",
    "         list[neigh]=j\n",
    "         neigh = neigh + 1\n",
    "          \n",
    "  return neigh, list        "
   ]
  },
  {
   "cell_type": "code",
   "execution_count": null,
   "id": "8e7c8abc-54bf-4440-8b86-809fd3010bc0",
   "metadata": {},
   "outputs": [],
   "source": [
    "def kernel(q,h):\n",
    "   W = 0.0\n",
    "   if (q > 2.0):\n",
    "     W = 0.0\n",
    "   if ((q > 1.0) and (q < 2.0)):\n",
    "     W = 0.25*(2-q)*(2-q)\n",
    "   if (q <= 1.0):\n",
    "     W = 1.0 - 1.5*q*q + 0.75*q*q*q\n",
    "\n",
    "   W = 2.0*W/(3.0*h)\n",
    "\n",
    "   return W"
   ]
  },
  {
   "cell_type": "code",
   "execution_count": null,
   "id": "b9786dd0-4865-48a2-a8ef-3f482d847fe3",
   "metadata": {},
   "outputs": [],
   "source": [
    "def gradkernel(q,h):\n",
    "   dWa = 0.0\n",
    "   if (q > 2.0):\n",
    "     dWa = 0.0\n",
    "   if ((q > 1.0) and (q < 2.0)):\n",
    "     dWa = -3.0*(2-q)*(2-q)/(4.0*h)\n",
    "   if (q <= 1.0):\n",
    "     dWa = -3.0*q/h + 9.0*q*q/(4.0*h)\n",
    "\n",
    "   dWa = 2.0*dWa/(3.0*h)\n",
    "\n",
    "   return dWa\n"
   ]
  },
  {
   "cell_type": "code",
   "execution_count": null,
   "id": "6c1454bf-b1c5-42d2-8145-81a60c53d74b",
   "metadata": {},
   "outputs": [],
   "source": [
    "def density(i,x,smooth,nneigh,neighlist,mpart,npart):\n",
    "  rho = 0.0\n",
    "  for j in range(0,nneigh[i]):\n",
    "       k = neighlist[i,j]\n",
    "       q = abs(x[i] - x[k])/(0.5*(smooth[i]+smooth[k]))\n",
    "       if (q <= 2.0):\n",
    "          rho = rho + mpart*kernel(q,0.5*(smooth[i]+smooth[k]))\n",
    "\n",
    "  return rho"
   ]
  },
  {
   "cell_type": "code",
   "execution_count": null,
   "id": "b1340b60-db36-4464-94c8-43086a7af530",
   "metadata": {},
   "outputs": [],
   "source": [
    "def accel(i,x,v,soundspeed,dens,Press,smooth,nneigh,neighlist,mpart,npart):\n",
    "   dvadt = 0.0\n",
    "   for j in range(0,nneigh[i]):\n",
    "      k = neighlist[i,j]\n",
    "      h = 0.5*(smooth[i]+smooth[k])\n",
    "      q = abs(x[i] - x[k])/h\n",
    "      if (q <= 2.0):\n",
    "        if (i != k):\n",
    "          temp = (Press[k]/(dens[k]*dens[k]) + Press[i]/(dens[i]*dens[i]))*(x[i]-x[k])*gradkernel(q,h)/abs(x[i]-x[k])\n",
    "          dvadt = dvadt - mpart*temp\n",
    "\n",
    "   return dvadt"
   ]
  },
  {
   "cell_type": "code",
   "execution_count": null,
   "id": "edeae4d2-a3c5-4064-ba7c-40608a3c35f0",
   "metadata": {},
   "outputs": [],
   "source": [
    "def energy(i,x,v,soundspeed,dens,Press,smooth,nneigh,neighlist,mpart,npart):\n",
    "   dedt = 0.0\n",
    "\n",
    "   return dedt"
   ]
  },
  {
   "cell_type": "code",
   "execution_count": null,
   "id": "fee75bda-058e-44a3-b1d3-8ebd8c8096c3",
   "metadata": {},
   "outputs": [],
   "source": [
    "npart = 1000\n",
    "#mpart = 0.00125\n",
    "mpart = 0.002\n",
    "ho = 0.005\n",
    "gamma = 1.0\n",
    "#gamma = 1.66667\n",
    "\n",
    "x = np.zeros(npart)\n",
    "mass = np.zeros(npart)\n",
    "v = np.zeros(npart)\n",
    "dens = np.zeros(npart)\n",
    "ee = np.zeros(npart)\n",
    "Press = np.zeros(npart)\n",
    "acc = np.zeros(npart)\n",
    "soundspeed = np.zeros(npart)\n",
    "edot = np.zeros(npart)\n",
    "smooth = np.zeros(npart)\n",
    "nneigh = np.zeros(npart,dtype=int)\n",
    "neighlist = np.zeros((npart,npart),dtype=int)"
   ]
  },
  {
   "cell_type": "code",
   "execution_count": null,
   "id": "57f4e739-22ae-4758-a8f1-1d5340e05b33",
   "metadata": {},
   "outputs": [],
   "source": [
    "x[0] = -1.0\n",
    "v[0] = 0.0\n",
    "#ee[0] = 1.5\n",
    "ee[0] = 0.5 \n",
    "smooth[0] = ho\n",
    "for i in range(1,npart):\n",
    "  if (x[i-1] < 0.0):\n",
    "#     x[i] = x[i-1] + 1.0/(0.8*npart)\n",
    "#     ee[i] = 1.5\n",
    "#     v[i] = 0.0\n",
    "     x[i] = x[i-1] + 1.0/(0.7*npart)\n",
    "     ee[i] = 1.0\n",
    "     v[i] = 1.0 \n",
    "  if (x[i-1] >= 0.0):\n",
    "#     x[i] = x[i-1] + 1.0/(0.2*npart)\n",
    "#     ee[i] = 1.0\n",
    "#     v[i]=0.0\n",
    "     x[i] = x[i-1] + 1.0/(0.3*npart)\n",
    "     ee[i] = 1.0\n",
    "     v[i] = 0.0 \n",
    "  smooth[i] = ho"
   ]
  },
  {
   "cell_type": "code",
   "execution_count": null,
   "id": "9e2a7b9f-f7c5-4977-afcd-b00e1f5208fa",
   "metadata": {},
   "outputs": [],
   "source": [
    "for i in range(0,npart):\n",
    "  nneigh[i] = npart\n",
    "  for j in range(0,npart):\n",
    "    neighlist[i,j] = j\n",
    "  dens[i] = density(i,x,smooth,nneigh,neighlist,mpart,npart)"
   ]
  },
  {
   "cell_type": "code",
   "execution_count": null,
   "id": "15e610ac-9af4-4f8a-a41f-942f539b96bf",
   "metadata": {},
   "outputs": [],
   "source": [
    "dt = 0.0001\n",
    "for j in range(0,2000):\n",
    "  for i in range(0,npart):\n",
    "     smooth[i] = ho/dens[i]**(1.0/3.0)\n",
    "     nneigh[i],neighlist[i,:] = numneigh(i,x,smooth[i],npart)\n",
    "     dens[i] = density(i,x,smooth,nneigh,neighlist,mpart,npart)\n",
    "     Press[i] = (gamma - 1.0)*dens[i]*ee[i]\n",
    "     soundspeed[i] = np.sqrt(gamma*Press[i]/dens[i])\n",
    "\n",
    "  for i in range(0,npart):\n",
    "     acc[i] = accel(i,x,v,soundspeed,dens,Press,smooth,nneigh,neighlist,mpart,npart)\n",
    "     v[i] = v[i] + acc[i]*dt/2.0\n",
    "     dens[i] = density(i,x+v[i]*dt/2.0,smooth,nneigh,neighlist,mpart,npart)\n",
    "#     edot[i] = energy(i,x+v[i]*dt/2.0,v,soundspeed,dens,Press,smooth,nneigh,neighlist,mpart,npart)\n",
    "     x[i] = x[i] + v[i]*dt\n",
    "#     ee[i] = ee[i] + edot[i]*dt\n",
    "     v[i] = v[i] + acc[i]*dt/2.0\n",
    "\n",
    "#  print(j)  \n",
    "  if (np.mod(j,50) == 0):\n",
    "    plt.plot(x,v,ls='dashed',label='velocity')\n",
    "    plt.plot(x,Press,ls='dotted',label='pressure')\n",
    "    plt.plot(x,dens,label='density')\n",
    "\n",
    "    plt.legend(loc='upper right')\n",
    "\n",
    "    plt.xlim(-0.5,0.5)\n",
    "    plt.ylim(-0.1,10.0)\n",
    "    plt.show(block=False)\n",
    "#    plt.pause(1)\n",
    "    clear_output(wait=True)\n",
    "#    plt.close()\n",
    "\n",
    "plt.plot(x,v,ls='dashed',label='velocity')\n",
    "plt.plot(x,Press,ls='dotted',label='pressure')\n",
    "plt.plot(x,dens,label='density')\n",
    "\n",
    "plt.legend(loc='upper right')\n",
    "\n",
    "plt.xlim(-0.5,0.5)\n",
    "plt.ylim(-0.1,10.0)\n",
    "plt.show()\n",
    "\n",
    "print('finished')"
   ]
  }
 ],
 "metadata": {
  "kernelspec": {
   "display_name": "Python 3 (ipykernel)",
   "language": "python",
   "name": "python3"
  },
  "language_info": {
   "codemirror_mode": {
    "name": "ipython",
    "version": 3
   },
   "file_extension": ".py",
   "mimetype": "text/x-python",
   "name": "python",
   "nbconvert_exporter": "python",
   "pygments_lexer": "ipython3",
   "version": "3.11.9"
  }
 },
 "nbformat": 4,
 "nbformat_minor": 5
}
